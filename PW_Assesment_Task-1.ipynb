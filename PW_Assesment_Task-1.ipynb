{
 "cells": [
  {
   "cell_type": "markdown",
   "id": "d8584f7e",
   "metadata": {},
   "source": [
    "# Question-1\n"
   ]
  },
  {
   "cell_type": "code",
   "execution_count": 5,
   "id": "b34e3ba6",
   "metadata": {},
   "outputs": [],
   "source": [
    "list1 = [1,2,3,4, [44,55,66, True], False, (34,56,78,89,34), {1,2,3,3,2,1}, {1:34, \"key2\": [55, 67, 78, 89], 4: (45,\n",
    "22, 61, 34)}, [56, 'data science'], 'Machine Learning']"
   ]
  },
  {
   "cell_type": "code",
   "execution_count": 16,
   "id": "f28cb44a",
   "metadata": {},
   "outputs": [],
   "source": [
    "lst=[1,2,3,4,5,[6,7,8,9]]"
   ]
  },
  {
   "cell_type": "code",
   "execution_count": 29,
   "id": "2c8154e1",
   "metadata": {},
   "outputs": [],
   "source": [
    "def task(l):\n",
    "    prod=1\n",
    "    for i in l:\n",
    "        if type(i)==int or type(i)==float:\n",
    "            prod=i*prod\n",
    "        elif type(i)==list:\n",
    "            for j in i:\n",
    "                if type(j)==int or type(j)==float:\n",
    "                     prod=j*prod\n",
    "        elif type(i)==tuple:\n",
    "            for k in i:\n",
    "                if type(k)==int or type(k)==float:\n",
    "                     prod=k*prod\n",
    "        elif type(i)==dict:\n",
    "            if i.values()==int or i.values()==float:\n",
    "                prod=i.values()*prod\n",
    "    return prod\n",
    "    "
   ]
  },
  {
   "cell_type": "code",
   "execution_count": 31,
   "id": "95e96ada",
   "metadata": {},
   "outputs": [
    {
     "data": {
      "text/plain": [
       "362880"
      ]
     },
     "execution_count": 31,
     "metadata": {},
     "output_type": "execute_result"
    }
   ],
   "source": [
    "task(lst)"
   ]
  },
  {
   "cell_type": "code",
   "execution_count": 32,
   "id": "b53127ec",
   "metadata": {},
   "outputs": [
    {
     "data": {
      "text/plain": [
       "96469280776028160"
      ]
     },
     "execution_count": 32,
     "metadata": {},
     "output_type": "execute_result"
    }
   ],
   "source": [
    "task(list1)"
   ]
  },
  {
   "cell_type": "markdown",
   "id": "8922a618",
   "metadata": {},
   "source": [
    "# Question-2:-"
   ]
  },
  {
   "cell_type": "code",
   "execution_count": 34,
   "id": "d496fa58",
   "metadata": {},
   "outputs": [],
   "source": [
    "sen=\"I want to become a Data Scientist\"\n",
    "sen=sen.lower()"
   ]
  },
  {
   "cell_type": "code",
   "execution_count": 35,
   "id": "74b8a897",
   "metadata": {},
   "outputs": [
    {
     "data": {
      "text/plain": [
       "'i want to become a data scientist'"
      ]
     },
     "execution_count": 35,
     "metadata": {},
     "output_type": "execute_result"
    }
   ],
   "source": [
    "sen"
   ]
  },
  {
   "cell_type": "code",
   "execution_count": 71,
   "id": "08bd2d36",
   "metadata": {},
   "outputs": [],
   "source": [
    "def encrypt(s):\n",
    "    dic={'a':'z','b':'y','c':'x',' ':'$'}\n",
    "    sen=s[:]\n",
    "    for i in dic:\n",
    "        sen=sen.replace(i,dic[i])\n",
    "    return sen"
   ]
  },
  {
   "cell_type": "code",
   "execution_count": 72,
   "id": "9b1e3b02",
   "metadata": {},
   "outputs": [
    {
     "data": {
      "text/plain": [
       "'i$wznt$to$yexome$z$dztz$sxientist'"
      ]
     },
     "execution_count": 72,
     "metadata": {},
     "output_type": "execute_result"
    }
   ],
   "source": [
    "encrypt(sen)"
   ]
  },
  {
   "cell_type": "code",
   "execution_count": null,
   "id": "3066ef9e",
   "metadata": {},
   "outputs": [],
   "source": []
  },
  {
   "cell_type": "code",
   "execution_count": null,
   "id": "108938c7",
   "metadata": {},
   "outputs": [],
   "source": []
  },
  {
   "cell_type": "code",
   "execution_count": null,
   "id": "600c18af",
   "metadata": {},
   "outputs": [],
   "source": []
  },
  {
   "cell_type": "code",
   "execution_count": null,
   "id": "16455f11",
   "metadata": {},
   "outputs": [],
   "source": []
  }
 ],
 "metadata": {
  "kernelspec": {
   "display_name": "Python 3 (ipykernel)",
   "language": "python",
   "name": "python3"
  },
  "language_info": {
   "codemirror_mode": {
    "name": "ipython",
    "version": 3
   },
   "file_extension": ".py",
   "mimetype": "text/x-python",
   "name": "python",
   "nbconvert_exporter": "python",
   "pygments_lexer": "ipython3",
   "version": "3.9.13"
  }
 },
 "nbformat": 4,
 "nbformat_minor": 5
}
