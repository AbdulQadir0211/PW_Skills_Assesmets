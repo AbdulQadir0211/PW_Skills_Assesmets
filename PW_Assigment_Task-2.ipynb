{
 "cells": [
  {
   "cell_type": "code",
   "execution_count": 10,
   "id": "5911844f-162e-4e1b-ba1c-b4ef0368e788",
   "metadata": {},
   "outputs": [],
   "source": [
    "#Question-1:-\n",
    "class vehicle:\n",
    "    def __init__(self,name_of_vehicle,max_speed,average_of_vehicle):\n",
    "        \n",
    "        self.name_of_vehicle=name_of_vehicle\n",
    "        self.max_speed=max_speed\n",
    "        self.average_of_vehicle=average_of_vehicle"
   ]
  },
  {
   "cell_type": "code",
   "execution_count": 13,
   "id": "783a97cf-5af8-4343-a93c-a08024fc603e",
   "metadata": {},
   "outputs": [],
   "source": [
    "vehicle_obj=vehicle(\"Maruti\",350,18)"
   ]
  },
  {
   "cell_type": "code",
   "execution_count": 15,
   "id": "f1be25de-31f4-419f-b4d0-a554bb20045a",
   "metadata": {},
   "outputs": [
    {
     "data": {
      "text/plain": [
       "350"
      ]
     },
     "execution_count": 15,
     "metadata": {},
     "output_type": "execute_result"
    }
   ],
   "source": [
    "vehicle_obj.max_speed"
   ]
  },
  {
   "cell_type": "code",
   "execution_count": 16,
   "id": "3f65bc22-0ff1-4af3-adcb-eda3d35da3e9",
   "metadata": {},
   "outputs": [],
   "source": [
    "#Question 2:-\n",
    "class car(vehicle):\n",
    "    def seating_capacity(self,seat):\n",
    "        return self.name_of_vehicle,seat\n",
    "    "
   ]
  },
  {
   "cell_type": "code",
   "execution_count": 19,
   "id": "8cbf384e-601a-4405-a937-c1be924a9b69",
   "metadata": {},
   "outputs": [],
   "source": [
    "obj_car=car('Toyota',250,20)"
   ]
  },
  {
   "cell_type": "code",
   "execution_count": 22,
   "id": "84078d28-bab1-4963-a649-95e17a362c04",
   "metadata": {},
   "outputs": [
    {
     "data": {
      "text/plain": [
       "('Toyota', 4)"
      ]
     },
     "execution_count": 22,
     "metadata": {},
     "output_type": "execute_result"
    }
   ],
   "source": [
    "obj_car.seating_capacity(4)"
   ]
  },
  {
   "cell_type": "code",
   "execution_count": 25,
   "id": "18faa691-5c14-4d2e-aa7a-abef29f7ce8b",
   "metadata": {},
   "outputs": [],
   "source": [
    "#Question-3\n",
    "#Multiple Inheritance:-\n",
    "#When a class inherits the properties of multiple class is known as multiple inheritance\n",
    "#For example :-\n",
    "class test1:\n",
    "    def class1(self):\n",
    "        print(\"This is class 1\")\n"
   ]
  },
  {
   "cell_type": "code",
   "execution_count": 26,
   "id": "e053d6a9-a7e3-4d18-93d3-5a3887a3610e",
   "metadata": {},
   "outputs": [],
   "source": [
    "class test2:\n",
    "    def class2(self):\n",
    "        print(\"this is class 3\")"
   ]
  },
  {
   "cell_type": "code",
   "execution_count": 27,
   "id": "2944c5bc-3df0-477c-b628-c7b862bda77d",
   "metadata": {},
   "outputs": [],
   "source": [
    "class test3(test1,test2):\n",
    "    pass"
   ]
  },
  {
   "cell_type": "code",
   "execution_count": 28,
   "id": "732a68dc-c1a7-477e-85ee-dd7ce10cda66",
   "metadata": {},
   "outputs": [],
   "source": [
    "obj_class3=test3()"
   ]
  },
  {
   "cell_type": "code",
   "execution_count": 30,
   "id": "f5091c36-b2bc-441a-a4b8-a2fff7f2a4d0",
   "metadata": {},
   "outputs": [
    {
     "name": "stdout",
     "output_type": "stream",
     "text": [
      "This is class 1\n"
     ]
    }
   ],
   "source": [
    "obj_class3.class1()"
   ]
  },
  {
   "cell_type": "code",
   "execution_count": 32,
   "id": "32f3a9db-1864-471d-a257-94243f1cc051",
   "metadata": {},
   "outputs": [
    {
     "name": "stdout",
     "output_type": "stream",
     "text": [
      "this is class 3\n"
     ]
    }
   ],
   "source": [
    "obj_class3.class2()"
   ]
  },
  {
   "cell_type": "code",
   "execution_count": 33,
   "id": "acc55d0d-22eb-4732-9722-cc388ca55476",
   "metadata": {},
   "outputs": [],
   "source": [
    "#The above example illustrate that class3 inherits the properties of class1 and class that is from multiple classes"
   ]
  },
  {
   "cell_type": "code",
   "execution_count": null,
   "id": "6039c702-9a89-49ea-a469-54d054d70350",
   "metadata": {},
   "outputs": [],
   "source": [
    "#Question-4\n",
    "#Getter and setter is not discussed yet in the lectures\n",
    "#question-5\n",
    "#Method overriding is also not discussed yet."
   ]
  }
 ],
 "metadata": {
  "kernelspec": {
   "display_name": "Python 3 (ipykernel)",
   "language": "python",
   "name": "python3"
  },
  "language_info": {
   "codemirror_mode": {
    "name": "ipython",
    "version": 3
   },
   "file_extension": ".py",
   "mimetype": "text/x-python",
   "name": "python",
   "nbconvert_exporter": "python",
   "pygments_lexer": "ipython3",
   "version": "3.10.8"
  }
 },
 "nbformat": 4,
 "nbformat_minor": 5
}
